{
 "cells": [
  {
   "cell_type": "code",
   "execution_count": 19,
   "id": "507b3e4c",
   "metadata": {},
   "outputs": [],
   "source": [
    "import pandas as pd\n",
    "from bs4 import BeautifulSoup\n",
    "import xlrd\n",
    "import time\n",
    "import warnings\n",
    "warnings.simplefilter(action='ignore', category=FutureWarning)\n",
    "warnings.simplefilter(action='ignore', category=UserWarning)\n",
    "from datetime import date,datetime, timedelta\n",
    "from dateutil.relativedelta import relativedelta\n",
    "from selenium import webdriver\n",
    "from selenium.webdriver.firefox.service import Service\n",
    "from selenium.webdriver.firefox.options import Options\n",
    "from selenium.webdriver.common.keys import Keys\n",
    "from selenium.webdriver.common.by import By\n",
    "from selenium.webdriver.support.ui import WebDriverWait\n",
    "from selenium.webdriver.support import expected_conditions as EC\n",
    "from selenium.webdriver.support.expected_conditions import presence_of_element_located\n",
    "from selenium.webdriver.support.expected_conditions import visibility_of_element_located\n",
    "from selenium.webdriver.common.action_chains import (\n",
    "    ActionChains\n",
    ")\n",
    "from selenium.webdriver.common.keys import Keys\n",
    "from selenium.webdriver.common.alert import Alert\n",
    "from selenium.common.exceptions import TimeoutException\n",
    "from selenium.webdriver.support.expected_conditions import (\n",
    "    frame_to_be_available_and_switch_to_it,\n",
    "    element_to_be_clickable\n",
    ")\n",
    "from selenium.webdriver.support.expected_conditions import (\n",
    "    new_window_is_opened,\n",
    "    number_of_windows_to_be\n",
    ")\n",
    "from selenium.common.exceptions import TimeoutException, NoSuchElementException"
   ]
  },
  {
   "cell_type": "code",
   "execution_count": 22,
   "id": "01d2e97c",
   "metadata": {},
   "outputs": [],
   "source": [
    "options = Options()\n",
    "#options.add_argument(\"--headless\")\n",
    "browser = webdriver.Firefox(options=options)\n",
    "browser.get('https://steamcommunity.com/market/')\n",
    "ac = ActionChains(browser)\n",
    "wdw = WebDriverWait(browser, 30)\n",
    "browser.implicitly_wait(30)\n",
    "#wdw.until(EC.element_to_be_clickable((By.XPATH,'https://steamcommunity.com/market/search?q=&category_730_ItemSet%5B%5D=any&category_730_ProPlayer%5B%5D=any&category_730_StickerCapsule%5B%5D=any&category_730_TournamentTeam%5B%5D=any&category_730_Weapon%5B%5D=any&category_730_Type%5B%5D=tag_Type_CustomPlayer&appid=730'))).click()\n",
    "browser.execute_script(\"window.open('');\")"
   ]
  },
  {
   "cell_type": "code",
   "execution_count": null,
   "id": "1885f9d8",
   "metadata": {},
   "outputs": [],
   "source": [
    "now = datetime.now()\n",
    "now = datetime.timestamp(now)\n",
    "now = datetime.fromtimestamp(now)\n",
    "quote_date = now.strftime('%Y-%m-%d')\n",
    "\n",
    "base_agent = pd.read_excel('base_agent.xlsx')\n",
    "#base_agent = base_agent[['id', 'name','type','date_buy', 'price', 'overall']]"
   ]
  },
  {
   "cell_type": "code",
   "execution_count": null,
   "id": "06e193b3",
   "metadata": {},
   "outputs": [],
   "source": [
    "df_csgostash = pd.DataFrame([])\n",
    "for x_url in range(len(base_agent)):\n",
    "    id_item_csgo = base_agent.loc[x_url][0]\n",
    "    type_item_csgo = str(base_agent.loc[x_url][2])\n",
    "    url = 'https://csgostash.com/' + type_item_csgo + '/' + str(id_item_csgo) + '/'\n",
    "    browser.switch_to.window(browser.window_handles[1]) \n",
    "    browser.get(url)\n",
    "    try:\n",
    "        browser.implicitly_wait(30)\n",
    "        wdw.until(EC.element_to_be_clickable((By.XPATH,'/html/body/table/tbody/tr/td/div/div[1]/table/tbody/tr/td[1]/div[1]/div/label/input'))).click()\n",
    "   \n",
    "    page_content = browser.page_source\n",
    "    site = BeautifulSoup(page_content, 'html.parser')\n",
    "    \n",
    "    name = site.find('h2').getText()    \n",
    "    quality = site.find_all('p', attrs={'class': 'nomargin'})[0].getText()\n",
    "    collection = site.find_all('p')[4].getText().strip('Collection: ')\n",
    "    value_steam = site.find_all('span', attrs = {'class': 'pull-right'})[0].getText().strip('R$ ')\n",
    "    value_bitskins = site.find_all('span', attrs = {'class': 'pull-right'})[1].getText().strip('R$ ')\n",
    "    value_listing =  site.find_all('span', attrs = {'class': 'pull-right'})[3].getText().strip('\\n')\n",
    "    value_median = site.find_all('span', attrs = {'class': 'pull-right'})[4].getText().strip('\\nR$')\n",
    "    value_volume = site.find_all('span', attrs = {'class': 'pull-right'})[5].getText().strip('\\n')\n",
    "    added = pd.to_datetime(site.find_all('span', attrs = {'class': 'tooltip-text cursor-default'})[0].getText())\n",
    "    added_in = added.strftime('%Y-%m-%d')\n",
    "    time_market_days = (now - added).days\n",
    "    \n",
    "    info_csgostash = {'name':name, 'quality':quality, 'collection':collection,\n",
    "                 'price_steam':value_steam, 'price_bitskins':value_bitskins, 'currently_for_ sale':value_listing,\n",
    "                  'sales_amount_24':value_median,'current_market_value_24':value_volume,'added_in':added_in,\n",
    "                  'time_market_days':time_market_days}\n",
    "    df_csgostash = df_csgostash.append(pd.Series(info_csgostash),ignore_index=True)\n",
    "df_csgostash = df_csgostash.replace({',': '.'}, regex=True)\n",
    "df_csgostash['quote_date'] = quote_date"
   ]
  },
  {
   "cell_type": "code",
   "execution_count": null,
   "id": "9637c68f",
   "metadata": {},
   "outputs": [],
   "source": [
    "csgostash = pd.merge(base_agent, df_csgostash, how = 'outer', on = ['name'])\n",
    "\n",
    "csgostash['date_buy'] = pd.to_datetime(csgostash['date_buy'])\n",
    "csgostash['added_in'] = pd.to_datetime(csgostash['added_in'])\n",
    "csgostash['quote_date'] = pd.to_datetime(csgostash['quote_date'])\n",
    "\n",
    "\n",
    "csgostash.to_excel(quote_date+'.xlsx')"
   ]
  }
 ],
 "metadata": {
  "kernelspec": {
   "display_name": "Python 3 (ipykernel)",
   "language": "python",
   "name": "python3"
  },
  "language_info": {
   "codemirror_mode": {
    "name": "ipython",
    "version": 3
   },
   "file_extension": ".py",
   "mimetype": "text/x-python",
   "name": "python",
   "nbconvert_exporter": "python",
   "pygments_lexer": "ipython3",
   "version": "3.9.13"
  }
 },
 "nbformat": 4,
 "nbformat_minor": 5
}
